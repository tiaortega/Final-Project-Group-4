{
 "cells": [
  {
   "cell_type": "code",
   "execution_count": 6,
   "metadata": {},
   "outputs": [],
   "source": [
    "import pandas as pd\n",
    "import numpy as np\n",
    "import sys\n",
    "import re\n",
    "import json\n",
    "import matplotlib.pyplot as plt\n",
    "import seaborn as sns\n",
    "from nltk.tokenize import RegexpTokenizer\n",
    "\n",
    "from sklearn.datasets import make_blobs\n",
    "from sklearn.cluster import KMeans, DBSCAN\n",
    "from sklearn.metrics import silhouette_score\n",
    "from sklearn.metrics.pairwise import pairwise_distances\n",
    "from sklearn.preprocessing import StandardScaler\n",
    "from sklearn.neighbors import DistanceMetric, KNeighborsRegressor\n",
    "from sklearn.datasets import load_iris, make_classification\n",
    "\n",
    "from scipy import sparse\n",
    "\n"
   ]
  },
  {
   "cell_type": "markdown",
   "metadata": {},
   "source": [
    "### Load in Data"
   ]
  },
  {
   "cell_type": "code",
   "execution_count": 7,
   "metadata": {},
   "outputs": [],
   "source": [
    "strain_data = pd.read_csv('Data/Cannabis_Data.csv')"
   ]
  },
  {
   "cell_type": "code",
   "execution_count": 8,
   "metadata": {},
   "outputs": [],
   "source": [
    "url = \"https://www.kaggle.com/nvisagan/cannabis-strains-features\""
   ]
  },
  {
   "cell_type": "markdown",
   "metadata": {},
   "source": [
    "### Search Methods"
   ]
  },
  {
   "cell_type": "code",
   "execution_count": 9,
   "metadata": {},
   "outputs": [],
   "source": [
    "def find_strain(name):\n",
    "    return strain_data['Description'][strain_data['Strain'].str.contains(name)]"
   ]
  },
  {
   "cell_type": "code",
   "execution_count": 10,
   "metadata": {},
   "outputs": [],
   "source": [
    "def find_descrip(word):\n",
    "    return strain_data[strain_data['Description'].str.contains(word)]"
   ]
  },
  {
   "cell_type": "code",
   "execution_count": null,
   "metadata": {},
   "outputs": [],
   "source": []
  },
  {
   "cell_type": "code",
   "execution_count": null,
   "metadata": {},
   "outputs": [],
   "source": []
  },
  {
   "cell_type": "code",
   "execution_count": 11,
   "metadata": {},
   "outputs": [],
   "source": [
    "strain_data['Flavor'].fillna('Unknown', inplace=True)"
   ]
  },
  {
   "cell_type": "code",
   "execution_count": 12,
   "metadata": {},
   "outputs": [],
   "source": [
    "strain_data['Description'].fillna('None', inplace=True)"
   ]
  },
  {
   "cell_type": "code",
   "execution_count": 13,
   "metadata": {},
   "outputs": [],
   "source": [
    "strain_data['Strain'] = strain_data['Strain'].str.replace('-', ' ')\n",
    "strain_data['Strain'] = strain_data['Strain'].str.replace('Ar 4', 'Ar-4')"
   ]
  },
  {
   "cell_type": "code",
   "execution_count": 14,
   "metadata": {},
   "outputs": [],
   "source": [
    "list_of_strains = list(strain_data['Strain'])"
   ]
  },
  {
   "cell_type": "code",
   "execution_count": 15,
   "metadata": {},
   "outputs": [],
   "source": [
    "strain_breakdown = pd.DataFrame(strain_data['Strain'])\n",
    "strain_breakdown['Rating'] = strain_data['Rating']"
   ]
  },
  {
   "cell_type": "code",
   "execution_count": null,
   "metadata": {},
   "outputs": [],
   "source": []
  },
  {
   "cell_type": "code",
   "execution_count": null,
   "metadata": {},
   "outputs": [],
   "source": []
  },
  {
   "cell_type": "code",
   "execution_count": 16,
   "metadata": {},
   "outputs": [],
   "source": [
    "# Create Dummie Variables for Sativa, Indica, and Hybrid.\n",
    "\n",
    "strain_breakdown['Type'] = strain_data['Type']\n",
    "\n",
    "strain_breakdown = pd.get_dummies(strain_breakdown, columns=['Type'])\n",
    "\n",
    "strain_breakdown.columns = ['Strain', 'Rating', 'Type: Hybrid', 'Type: Indica', 'Type: Sativa']"
   ]
  },
  {
   "cell_type": "code",
   "execution_count": 17,
   "metadata": {},
   "outputs": [],
   "source": [
    "#loop to extract all the words used.\n",
    "\n",
    "flavor_options = []\n",
    "\n",
    "for i in range(len(strain_data)):\n",
    "    flavors = strain_data['Flavor'].iloc[i,]\n",
    "    flavors = flavors.split(',')\n",
    "    for flav in flavors:\n",
    "        if flav not in flavor_options:\n",
    "            flavor_options.append(flav)\n",
    "        else:\n",
    "            pass"
   ]
  },
  {
   "cell_type": "code",
   "execution_count": 18,
   "metadata": {},
   "outputs": [
    {
     "name": "stdout",
     "output_type": "stream",
     "text": [
      "['Earthy', 'Sweet', 'Citrus', 'Flowery', 'Violet', 'Diesel', 'Spicy/Herbal', 'Sage', 'Woody', 'Apricot', 'Grapefruit', 'Orange', 'None', 'Pungent', 'Grape', 'Pine', 'Skunk', 'Berry', 'Pepper', 'Menthol', 'Blue', 'Cheese', 'Chemical', 'Mango', 'Lemon', 'Peach', 'Vanilla', 'Nutty', 'Chestnut', 'Tea', 'Tobacco', 'Tropical', 'Strawberry', 'Blueberry', 'Mint', 'Apple', 'Honey', 'Lavender', 'Lime', 'Unknown', 'Coffee', 'Ammonia', 'Minty', 'Tree', 'Fruit', 'Butter', 'Pineapple', 'Tar', 'Rose', 'Plum', 'Pear'] "
     ]
    }
   ],
   "source": [
    "print (flavor_options, end=' ')\n",
    "# # I'm about 50/50 on using these, because I don't know how important taste is to the average user, but here they are."
   ]
  },
  {
   "cell_type": "code",
   "execution_count": 19,
   "metadata": {},
   "outputs": [],
   "source": [
    "for flavors in flavor_options:\n",
    "    strain_breakdown['Terpenes: ' + flavors] = (strain_data['Flavor'].str.contains(flavors)).astype(int)"
   ]
  },
  {
   "cell_type": "code",
   "execution_count": 20,
   "metadata": {},
   "outputs": [],
   "source": [
    "parent_strains = [\n",
    "    \n",
    "    'Aceh', 'Hindu Kush','OG Kush', 'Sour Diesel', 'Granddaddy Purple', 'Northern Lights',\n",
    "    'Durban Poison', 'Bubba Kush', 'Pre-98 Bubba Kush', 'Jack Herer', 'Blue Dream', 'Trainwreck',\n",
    "    'Hawaiian', 'Amnesia', 'Super Silver Haze', 'OG Badazz', 'Ms. Universe', 'LSD', 'Banana OG',\n",
    "    'White Widow', 'Nepali OG', 'Afgoo', 'Appalachia', 'Harlequin', 'Jack the Ripper', 'Pennywise',\n",
    "    'Lilly', 'Headband', 'Snowdawg', 'Snow Lotus', 'Green Crack', 'Alien OG', 'Alien Kush', 'Alien Dawg',\n",
    "    'Super Silver Haze', 'Chernobyl', 'Elephant', 'Apollo 13', 'Space Queen', \"Jack’s Cleaner\",\n",
    "    'LA Confidential', 'Maui Wowie', 'Gorilla Glue', 'AK-47', 'Blue Cheese', 'Deep Chunk', 'G13', \n",
    "    \"Rare Dankness #1\", 'Skywalker', 'Skywalker OG', 'Master Kush', 'SFV OG', 'Gooberry', 'Hell’s Angel OG',\n",
    "    'Captain Krypt', 'Sour Bubble', 'Shiva', 'Blue Moonshine', 'Ortega', 'Fire OG', 'Green Ribbon',\n",
    "    'Triangle Kush', 'Georgia Pine', 'Shishkaberry', 'Great White Shark', 'Mazar I Sharif', \n",
    "    \n",
    "    'Nepalese', 'Afghani', 'Thai', 'Skunk', 'The White', 'Blackberry', 'Cheese',\n",
    "    \n",
    "]\n",
    "\n",
    "\n",
    "# These are for strains that will need the first letter to be capitalized, since the word appears in other ways.\n",
    "title_parent_strains = [     \n",
    "     \n",
    "]"
   ]
  },
  {
   "cell_type": "code",
   "execution_count": 21,
   "metadata": {},
   "outputs": [],
   "source": [
    "for parents in parent_strains:\n",
    "    strain_breakdown['Parent: ' + parents] = (strain_data['Description'].str.contains(parents)).astype(int)"
   ]
  },
  {
   "cell_type": "code",
   "execution_count": 22,
   "metadata": {},
   "outputs": [],
   "source": [
    "gsc = ['Girl Scout Cookie', 'GSC']\n",
    "strain_breakdown['Parent: Girl Scout Cookies'] = (strain_data['Description'].apply(lambda x: any(word in x for word in gsc))).astype(int)\n",
    "\n",
    "chemdawg91 = ['chemdawg ‘91', 'chemdawg 91']\n",
    "strain_breakdown['Parent: Chemdawg 91'] = (strain_data['Description'].str.lower().apply(lambda x: any(word in x for word in chemdawg91))).astype(int)\n",
    "\n",
    "chemdawg = ['chemdawg', 'chem dawg', 'chem dog']\n",
    "strain_breakdown['Parent: Chemdawg'] = (strain_data['Description'].str.lower().apply(lambda x: any(word in x for word in chemdawg))).astype(int)"
   ]
  },
  {
   "cell_type": "code",
   "execution_count": 23,
   "metadata": {},
   "outputs": [],
   "source": [
    "thc_cbd = pd.DataFrame(strain_data['Strain'])\n",
    "\n",
    "def find_ratio(string, name):\n",
    "    df = strain_data['Description'].str.extract(string)\n",
    "    df['CBD'].fillna(1, inplace=True)\n",
    "    df['THC'].fillna(0, inplace=True)\n",
    "    thc_cbd[name] = df['THC'].astype(int) / df['CBD'].astype(int)"
   ]
  },
  {
   "cell_type": "code",
   "execution_count": 24,
   "metadata": {},
   "outputs": [],
   "source": [
    "find_ratio(r'THC:CBD ratio of about (?P<THC>\\d+):(?P<CBD>\\d+)', 'thc_cbd_1')\n",
    "find_ratio(r'THC:CBD ratio of (?P<THC>\\d+):(?P<CBD>\\d+)', 'thc_cbd_2')\n",
    "find_ratio(r'THC/CBD ratio of about (?P<THC>\\d+):(?P<CBD>\\d+)', 'thc_cbd_3')\n",
    "find_ratio(r'THC/CBD ratio of (?P<THC>\\d+):(?P<CBD>\\d+)', 'thc_cbd_4')\n",
    "find_ratio(r'(?P<THC>\\d+):(?P<CBD>\\d+) THC:CBD', 'thc_cbd_5')\n",
    "find_ratio(r'(?P<THC>\\d+):(?P<CBD>\\d+) THC/CBD', 'thc_cbd_6')\n",
    "\n",
    "find_ratio(r'(?P<CBD>\\d+):(?P<THC>\\d+) CBD/THC', 'cbd_thc_1')\n",
    "find_ratio(r'(?P<CBD>\\d+):(?P<THC>\\d+) CBD:THC', 'cbd_thc_2')\n",
    "find_ratio(r'(?P<CBD>\\d+):(?P<THC>\\d+) CBD to THC', 'cbd_thc_3')\n",
    "find_ratio(r'CBD to THC ratio of (?P<CBD>\\d+):(?P<THC>\\d+)', 'cbd_thc_4')\n",
    "find_ratio(r'(?P<CBD>\\d+):(?P<THC>\\d+) ratio of CBD to THC', 'cbd_thc_5')\n",
    "find_ratio(r'CBD:THC ratio of (?P<CBD>\\d+):(?P<THC>\\d+)', 'cbd_thc_6')\n",
    "find_ratio(r'(?P<CBD>\\d+)-to-(?P<THC>\\d+) CBD:THC', 'cbd_thc_7')\n",
    "find_ratio(r'(?P<CBD>\\d+):(?P<THC>\\d+) 59:1 (CBD:THC)', 'cbd_thc_8')\n",
    "\n",
    "\n",
    "one_to_one = ['1:1 CBD/THC', '1:1 THC/CBD', '1:1 THC-CBD', '1:1 CBD-THC', '1:1 ratio of CBD:THC', '1:1 ratio of THC:CBD'\n",
    "              '1:1 ratio of THC:CBD', 'BD:THC ratio can range anywhere from 1:1 – 2:1', 'balanced THC/CBD',\n",
    "              '1:1 ratio of CBD to THC', '1:1 ratio of THC to CBD', '1:1 ratio of THC and CBD', '1:1 ratio of CBD and THC',\n",
    "              'THC to CBD ratio typically comes out 1:1', '1:1 CBD-THC', 'balanced 1:1 cannabinoid', 'balanced THC:CBD ratio']\n",
    "thc_cbd['Equal'] = (strain_data['Description'].apply(lambda x: any(word in x for word in one_to_one))).astype(int)"
   ]
  },
  {
   "cell_type": "code",
   "execution_count": 25,
   "metadata": {},
   "outputs": [],
   "source": [
    "strain_frame = strain_breakdown.set_index('Strain')"
   ]
  },
  {
   "cell_type": "code",
   "execution_count": 26,
   "metadata": {},
   "outputs": [],
   "source": [
    "strain_frame.to_csv('Data/Strain_Frame.csv')"
   ]
  },
  {
   "cell_type": "code",
   "execution_count": 27,
   "metadata": {},
   "outputs": [],
   "source": [
    "np.set_printoptions(threshold=1000, suppress=None)"
   ]
  },
  {
   "cell_type": "code",
   "execution_count": 28,
   "metadata": {},
   "outputs": [],
   "source": [
    "X = strain_frame"
   ]
  },
  {
   "cell_type": "code",
   "execution_count": 29,
   "metadata": {},
   "outputs": [],
   "source": [
    "pivot = strain_frame.pivot_table"
   ]
  },
  {
   "cell_type": "code",
   "execution_count": 30,
   "metadata": {},
   "outputs": [],
   "source": [
    "pivot_sparse = sparse.csr_matrix"
   ]
  },
  {
   "cell_type": "code",
   "execution_count": 31,
   "metadata": {},
   "outputs": [
    {
     "data": {
      "text/html": [
       "<div>\n",
       "<style scoped>\n",
       "    .dataframe tbody tr th:only-of-type {\n",
       "        vertical-align: middle;\n",
       "    }\n",
       "\n",
       "    .dataframe tbody tr th {\n",
       "        vertical-align: top;\n",
       "    }\n",
       "\n",
       "    .dataframe thead th {\n",
       "        text-align: right;\n",
       "    }\n",
       "</style>\n",
       "<table border=\"1\" class=\"dataframe\">\n",
       "  <thead>\n",
       "    <tr style=\"text-align: right;\">\n",
       "      <th></th>\n",
       "      <th>Rating</th>\n",
       "      <th>Type: Hybrid</th>\n",
       "      <th>Type: Indica</th>\n",
       "      <th>Type: Sativa</th>\n",
       "      <th>Terpenes: Earthy</th>\n",
       "      <th>Terpenes: Sweet</th>\n",
       "      <th>Terpenes: Citrus</th>\n",
       "      <th>Terpenes: Flowery</th>\n",
       "      <th>Terpenes: Violet</th>\n",
       "      <th>Terpenes: Diesel</th>\n",
       "      <th>...</th>\n",
       "      <th>Parent: Nepalese</th>\n",
       "      <th>Parent: Afghani</th>\n",
       "      <th>Parent: Thai</th>\n",
       "      <th>Parent: Skunk</th>\n",
       "      <th>Parent: The White</th>\n",
       "      <th>Parent: Blackberry</th>\n",
       "      <th>Parent: Cheese</th>\n",
       "      <th>Parent: Girl Scout Cookies</th>\n",
       "      <th>Parent: Chemdawg 91</th>\n",
       "      <th>Parent: Chemdawg</th>\n",
       "    </tr>\n",
       "    <tr>\n",
       "      <th>Strain</th>\n",
       "      <th></th>\n",
       "      <th></th>\n",
       "      <th></th>\n",
       "      <th></th>\n",
       "      <th></th>\n",
       "      <th></th>\n",
       "      <th></th>\n",
       "      <th></th>\n",
       "      <th></th>\n",
       "      <th></th>\n",
       "      <th></th>\n",
       "      <th></th>\n",
       "      <th></th>\n",
       "      <th></th>\n",
       "      <th></th>\n",
       "      <th></th>\n",
       "      <th></th>\n",
       "      <th></th>\n",
       "      <th></th>\n",
       "      <th></th>\n",
       "      <th></th>\n",
       "    </tr>\n",
       "  </thead>\n",
       "  <tbody>\n",
       "    <tr>\n",
       "      <th>100 Og</th>\n",
       "      <td>4.0</td>\n",
       "      <td>1</td>\n",
       "      <td>0</td>\n",
       "      <td>0</td>\n",
       "      <td>1</td>\n",
       "      <td>1</td>\n",
       "      <td>1</td>\n",
       "      <td>0</td>\n",
       "      <td>0</td>\n",
       "      <td>0</td>\n",
       "      <td>...</td>\n",
       "      <td>0</td>\n",
       "      <td>0</td>\n",
       "      <td>0</td>\n",
       "      <td>0</td>\n",
       "      <td>0</td>\n",
       "      <td>0</td>\n",
       "      <td>0</td>\n",
       "      <td>0</td>\n",
       "      <td>0</td>\n",
       "      <td>0</td>\n",
       "    </tr>\n",
       "    <tr>\n",
       "      <th>98 White Widow</th>\n",
       "      <td>4.7</td>\n",
       "      <td>1</td>\n",
       "      <td>0</td>\n",
       "      <td>0</td>\n",
       "      <td>0</td>\n",
       "      <td>0</td>\n",
       "      <td>0</td>\n",
       "      <td>1</td>\n",
       "      <td>1</td>\n",
       "      <td>1</td>\n",
       "      <td>...</td>\n",
       "      <td>0</td>\n",
       "      <td>0</td>\n",
       "      <td>0</td>\n",
       "      <td>0</td>\n",
       "      <td>0</td>\n",
       "      <td>0</td>\n",
       "      <td>0</td>\n",
       "      <td>0</td>\n",
       "      <td>0</td>\n",
       "      <td>0</td>\n",
       "    </tr>\n",
       "    <tr>\n",
       "      <th>1024</th>\n",
       "      <td>4.4</td>\n",
       "      <td>0</td>\n",
       "      <td>0</td>\n",
       "      <td>1</td>\n",
       "      <td>0</td>\n",
       "      <td>0</td>\n",
       "      <td>0</td>\n",
       "      <td>0</td>\n",
       "      <td>0</td>\n",
       "      <td>0</td>\n",
       "      <td>...</td>\n",
       "      <td>0</td>\n",
       "      <td>0</td>\n",
       "      <td>0</td>\n",
       "      <td>0</td>\n",
       "      <td>0</td>\n",
       "      <td>0</td>\n",
       "      <td>0</td>\n",
       "      <td>0</td>\n",
       "      <td>0</td>\n",
       "      <td>0</td>\n",
       "    </tr>\n",
       "    <tr>\n",
       "      <th>13 Dawgs</th>\n",
       "      <td>4.2</td>\n",
       "      <td>1</td>\n",
       "      <td>0</td>\n",
       "      <td>0</td>\n",
       "      <td>0</td>\n",
       "      <td>0</td>\n",
       "      <td>1</td>\n",
       "      <td>0</td>\n",
       "      <td>0</td>\n",
       "      <td>0</td>\n",
       "      <td>...</td>\n",
       "      <td>0</td>\n",
       "      <td>0</td>\n",
       "      <td>0</td>\n",
       "      <td>0</td>\n",
       "      <td>0</td>\n",
       "      <td>0</td>\n",
       "      <td>0</td>\n",
       "      <td>0</td>\n",
       "      <td>0</td>\n",
       "      <td>1</td>\n",
       "    </tr>\n",
       "    <tr>\n",
       "      <th>24K Gold</th>\n",
       "      <td>4.6</td>\n",
       "      <td>1</td>\n",
       "      <td>0</td>\n",
       "      <td>0</td>\n",
       "      <td>1</td>\n",
       "      <td>0</td>\n",
       "      <td>1</td>\n",
       "      <td>0</td>\n",
       "      <td>0</td>\n",
       "      <td>0</td>\n",
       "      <td>...</td>\n",
       "      <td>0</td>\n",
       "      <td>0</td>\n",
       "      <td>0</td>\n",
       "      <td>0</td>\n",
       "      <td>0</td>\n",
       "      <td>0</td>\n",
       "      <td>0</td>\n",
       "      <td>0</td>\n",
       "      <td>0</td>\n",
       "      <td>0</td>\n",
       "    </tr>\n",
       "    <tr>\n",
       "      <th>...</th>\n",
       "      <td>...</td>\n",
       "      <td>...</td>\n",
       "      <td>...</td>\n",
       "      <td>...</td>\n",
       "      <td>...</td>\n",
       "      <td>...</td>\n",
       "      <td>...</td>\n",
       "      <td>...</td>\n",
       "      <td>...</td>\n",
       "      <td>...</td>\n",
       "      <td>...</td>\n",
       "      <td>...</td>\n",
       "      <td>...</td>\n",
       "      <td>...</td>\n",
       "      <td>...</td>\n",
       "      <td>...</td>\n",
       "      <td>...</td>\n",
       "      <td>...</td>\n",
       "      <td>...</td>\n",
       "      <td>...</td>\n",
       "      <td>...</td>\n",
       "    </tr>\n",
       "    <tr>\n",
       "      <th>Zeus Og</th>\n",
       "      <td>4.7</td>\n",
       "      <td>1</td>\n",
       "      <td>0</td>\n",
       "      <td>0</td>\n",
       "      <td>1</td>\n",
       "      <td>0</td>\n",
       "      <td>0</td>\n",
       "      <td>0</td>\n",
       "      <td>0</td>\n",
       "      <td>0</td>\n",
       "      <td>...</td>\n",
       "      <td>0</td>\n",
       "      <td>0</td>\n",
       "      <td>0</td>\n",
       "      <td>0</td>\n",
       "      <td>0</td>\n",
       "      <td>0</td>\n",
       "      <td>0</td>\n",
       "      <td>0</td>\n",
       "      <td>0</td>\n",
       "      <td>0</td>\n",
       "    </tr>\n",
       "    <tr>\n",
       "      <th>Zkittlez</th>\n",
       "      <td>4.6</td>\n",
       "      <td>0</td>\n",
       "      <td>1</td>\n",
       "      <td>0</td>\n",
       "      <td>0</td>\n",
       "      <td>1</td>\n",
       "      <td>0</td>\n",
       "      <td>0</td>\n",
       "      <td>0</td>\n",
       "      <td>0</td>\n",
       "      <td>...</td>\n",
       "      <td>0</td>\n",
       "      <td>0</td>\n",
       "      <td>0</td>\n",
       "      <td>0</td>\n",
       "      <td>0</td>\n",
       "      <td>0</td>\n",
       "      <td>0</td>\n",
       "      <td>0</td>\n",
       "      <td>0</td>\n",
       "      <td>0</td>\n",
       "    </tr>\n",
       "    <tr>\n",
       "      <th>Zombie Kush</th>\n",
       "      <td>5.0</td>\n",
       "      <td>0</td>\n",
       "      <td>1</td>\n",
       "      <td>0</td>\n",
       "      <td>1</td>\n",
       "      <td>1</td>\n",
       "      <td>0</td>\n",
       "      <td>0</td>\n",
       "      <td>0</td>\n",
       "      <td>0</td>\n",
       "      <td>...</td>\n",
       "      <td>0</td>\n",
       "      <td>0</td>\n",
       "      <td>0</td>\n",
       "      <td>0</td>\n",
       "      <td>0</td>\n",
       "      <td>0</td>\n",
       "      <td>0</td>\n",
       "      <td>0</td>\n",
       "      <td>0</td>\n",
       "      <td>0</td>\n",
       "    </tr>\n",
       "    <tr>\n",
       "      <th>Zombie Og</th>\n",
       "      <td>4.4</td>\n",
       "      <td>0</td>\n",
       "      <td>1</td>\n",
       "      <td>0</td>\n",
       "      <td>1</td>\n",
       "      <td>1</td>\n",
       "      <td>0</td>\n",
       "      <td>0</td>\n",
       "      <td>0</td>\n",
       "      <td>0</td>\n",
       "      <td>...</td>\n",
       "      <td>0</td>\n",
       "      <td>0</td>\n",
       "      <td>0</td>\n",
       "      <td>0</td>\n",
       "      <td>0</td>\n",
       "      <td>1</td>\n",
       "      <td>0</td>\n",
       "      <td>0</td>\n",
       "      <td>0</td>\n",
       "      <td>0</td>\n",
       "    </tr>\n",
       "    <tr>\n",
       "      <th>Zoom Pie</th>\n",
       "      <td>4.6</td>\n",
       "      <td>0</td>\n",
       "      <td>1</td>\n",
       "      <td>0</td>\n",
       "      <td>1</td>\n",
       "      <td>0</td>\n",
       "      <td>0</td>\n",
       "      <td>0</td>\n",
       "      <td>0</td>\n",
       "      <td>0</td>\n",
       "      <td>...</td>\n",
       "      <td>0</td>\n",
       "      <td>0</td>\n",
       "      <td>0</td>\n",
       "      <td>0</td>\n",
       "      <td>0</td>\n",
       "      <td>0</td>\n",
       "      <td>0</td>\n",
       "      <td>0</td>\n",
       "      <td>0</td>\n",
       "      <td>0</td>\n",
       "    </tr>\n",
       "  </tbody>\n",
       "</table>\n",
       "<p>2351 rows × 130 columns</p>\n",
       "</div>"
      ],
      "text/plain": [
       "                Rating  Type: Hybrid  Type: Indica  Type: Sativa  \\\n",
       "Strain                                                             \n",
       "100 Og             4.0             1             0             0   \n",
       "98 White Widow     4.7             1             0             0   \n",
       "1024               4.4             0             0             1   \n",
       "13 Dawgs           4.2             1             0             0   \n",
       "24K Gold           4.6             1             0             0   \n",
       "...                ...           ...           ...           ...   \n",
       "Zeus Og            4.7             1             0             0   \n",
       "Zkittlez           4.6             0             1             0   \n",
       "Zombie Kush        5.0             0             1             0   \n",
       "Zombie Og          4.4             0             1             0   \n",
       "Zoom Pie           4.6             0             1             0   \n",
       "\n",
       "                Terpenes: Earthy  Terpenes: Sweet  Terpenes: Citrus  \\\n",
       "Strain                                                                \n",
       "100 Og                         1                1                 1   \n",
       "98 White Widow                 0                0                 0   \n",
       "1024                           0                0                 0   \n",
       "13 Dawgs                       0                0                 1   \n",
       "24K Gold                       1                0                 1   \n",
       "...                          ...              ...               ...   \n",
       "Zeus Og                        1                0                 0   \n",
       "Zkittlez                       0                1                 0   \n",
       "Zombie Kush                    1                1                 0   \n",
       "Zombie Og                      1                1                 0   \n",
       "Zoom Pie                       1                0                 0   \n",
       "\n",
       "                Terpenes: Flowery  Terpenes: Violet  Terpenes: Diesel  ...  \\\n",
       "Strain                                                                 ...   \n",
       "100 Og                          0                 0                 0  ...   \n",
       "98 White Widow                  1                 1                 1  ...   \n",
       "1024                            0                 0                 0  ...   \n",
       "13 Dawgs                        0                 0                 0  ...   \n",
       "24K Gold                        0                 0                 0  ...   \n",
       "...                           ...               ...               ...  ...   \n",
       "Zeus Og                         0                 0                 0  ...   \n",
       "Zkittlez                        0                 0                 0  ...   \n",
       "Zombie Kush                     0                 0                 0  ...   \n",
       "Zombie Og                       0                 0                 0  ...   \n",
       "Zoom Pie                        0                 0                 0  ...   \n",
       "\n",
       "                Parent: Nepalese  Parent: Afghani  Parent: Thai  \\\n",
       "Strain                                                            \n",
       "100 Og                         0                0             0   \n",
       "98 White Widow                 0                0             0   \n",
       "1024                           0                0             0   \n",
       "13 Dawgs                       0                0             0   \n",
       "24K Gold                       0                0             0   \n",
       "...                          ...              ...           ...   \n",
       "Zeus Og                        0                0             0   \n",
       "Zkittlez                       0                0             0   \n",
       "Zombie Kush                    0                0             0   \n",
       "Zombie Og                      0                0             0   \n",
       "Zoom Pie                       0                0             0   \n",
       "\n",
       "                Parent: Skunk  Parent: The White  Parent: Blackberry  \\\n",
       "Strain                                                                 \n",
       "100 Og                      0                  0                   0   \n",
       "98 White Widow              0                  0                   0   \n",
       "1024                        0                  0                   0   \n",
       "13 Dawgs                    0                  0                   0   \n",
       "24K Gold                    0                  0                   0   \n",
       "...                       ...                ...                 ...   \n",
       "Zeus Og                     0                  0                   0   \n",
       "Zkittlez                    0                  0                   0   \n",
       "Zombie Kush                 0                  0                   0   \n",
       "Zombie Og                   0                  0                   1   \n",
       "Zoom Pie                    0                  0                   0   \n",
       "\n",
       "                Parent: Cheese  Parent: Girl Scout Cookies  \\\n",
       "Strain                                                       \n",
       "100 Og                       0                           0   \n",
       "98 White Widow               0                           0   \n",
       "1024                         0                           0   \n",
       "13 Dawgs                     0                           0   \n",
       "24K Gold                     0                           0   \n",
       "...                        ...                         ...   \n",
       "Zeus Og                      0                           0   \n",
       "Zkittlez                     0                           0   \n",
       "Zombie Kush                  0                           0   \n",
       "Zombie Og                    0                           0   \n",
       "Zoom Pie                     0                           0   \n",
       "\n",
       "                Parent: Chemdawg 91  Parent: Chemdawg  \n",
       "Strain                                                 \n",
       "100 Og                            0                 0  \n",
       "98 White Widow                    0                 0  \n",
       "1024                              0                 0  \n",
       "13 Dawgs                          0                 1  \n",
       "24K Gold                          0                 0  \n",
       "...                             ...               ...  \n",
       "Zeus Og                           0                 0  \n",
       "Zkittlez                          0                 0  \n",
       "Zombie Kush                       0                 0  \n",
       "Zombie Og                         0                 0  \n",
       "Zoom Pie                          0                 0  \n",
       "\n",
       "[2351 rows x 130 columns]"
      ]
     },
     "execution_count": 31,
     "metadata": {},
     "output_type": "execute_result"
    }
   ],
   "source": [
    "rec_df = pd.DataFrame(X)\n",
    "rec_df.head(20000)"
   ]
  },
  {
   "cell_type": "code",
   "execution_count": 32,
   "metadata": {},
   "outputs": [],
   "source": [
    "rec_df.to_csv('Data/Strain_Recommender.csv')"
   ]
  },
  {
   "cell_type": "code",
   "execution_count": 33,
   "metadata": {},
   "outputs": [
    {
     "data": {
      "text/plain": [
       "(2351, 130)"
      ]
     },
     "execution_count": 33,
     "metadata": {},
     "output_type": "execute_result"
    }
   ],
   "source": [
    "rec_df.shape"
   ]
  },
  {
   "cell_type": "code",
   "execution_count": 34,
   "metadata": {},
   "outputs": [],
   "source": [
    "with open('Data/Strain_Dictionary.txt', 'w') as f:\n",
    "    f.writelines('\\n'.join(list_of_strains))"
   ]
  },
  {
   "cell_type": "code",
   "execution_count": 35,
   "metadata": {},
   "outputs": [],
   "source": [
    "Strain_List = {K: 1 for K in list_of_strains}\n",
    "\n",
    "with open('Data/Strain_List.json', 'w') as f:\n",
    "    json.dump(Strain_List, f)"
   ]
  },
  {
   "cell_type": "code",
   "execution_count": 36,
   "metadata": {},
   "outputs": [],
   "source": [
    "sc = ('Data/Strain_List.json')"
   ]
  },
  {
   "cell_type": "code",
   "execution_count": 37,
   "metadata": {},
   "outputs": [],
   "source": [
    "def suggestion(strain):\n",
    "    strain_title = strain.title()\n",
    "    try:\n",
    "        print (f\"Strains similar to {strain.upper()} include \")\n",
    "        result = recommender_df[strain_title].sort_values(ascending=False)[1:11]\n",
    "        return result.astype(str).map(lambda x: x + '%')\n",
    "    except:\n",
    "        if sc != strain:\n",
    "            return(strain_title)\n",
    "        else:\n",
    "            return( '''Strain Not Found. \n",
    "If you searched the full strain name, try just the initials.''')"
   ]
  },
  {
   "cell_type": "code",
   "execution_count": 38,
   "metadata": {},
   "outputs": [
    {
     "name": "stdout",
     "output_type": "stream",
     "text": [
      "Strains similar to OG KUSH include \n"
     ]
    },
    {
     "data": {
      "text/plain": [
       "'Og Kush'"
      ]
     },
     "execution_count": 38,
     "metadata": {},
     "output_type": "execute_result"
    }
   ],
   "source": [
    "suggestion('Og Kush')"
   ]
  },
  {
   "cell_type": "code",
   "execution_count": null,
   "metadata": {},
   "outputs": [],
   "source": []
  },
  {
   "cell_type": "code",
   "execution_count": null,
   "metadata": {},
   "outputs": [],
   "source": []
  }
 ],
 "metadata": {
  "kernelspec": {
   "display_name": "Python 3",
   "language": "python",
   "name": "python3"
  },
  "language_info": {
   "codemirror_mode": {
    "name": "ipython",
    "version": 3
   },
   "file_extension": ".py",
   "mimetype": "text/x-python",
   "name": "python",
   "nbconvert_exporter": "python",
   "pygments_lexer": "ipython3",
   "version": "3.8.3"
  }
 },
 "nbformat": 4,
 "nbformat_minor": 4
}
