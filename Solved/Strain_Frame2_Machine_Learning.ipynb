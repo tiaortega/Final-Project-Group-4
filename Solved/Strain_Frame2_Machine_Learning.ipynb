{
 "cells": [
  {
   "cell_type": "code",
   "execution_count": 1,
   "metadata": {
    "slideshow": {
     "slide_type": "slide"
    }
   },
   "outputs": [],
   "source": [
    "import warnings\n",
    "warnings.simplefilter('ignore')\n",
    "\n",
    "%matplotlib inline\n",
    "import matplotlib.pyplot as plt\n",
    "import numpy as np\n",
    "import pandas as pd"
   ]
  },
  {
   "cell_type": "markdown",
   "metadata": {
    "slideshow": {
     "slide_type": "subslide"
    }
   },
   "source": [
    "# Cleaning and Preprocessing Data for Machine Learning\n",
    "\n",
    "Preprocessing your data is the process of preparing your data to be analyzed. As you can imagine, there is no \"correct\" way to do this. The approach taken for this depends on the data and the type of analysis. In this notebook, we'll look at encoding categorical variables, scaling, and normalizing.\n",
    "\n",
    "**Dataset:**  brain_categorical.csv\n",
    "\n",
    "**Source:** R.J. Gladstone (1905). [\"A Study of the Relations of the Brain to the Size of the Head\", Biometrika, Vol. 4, pp105-123](https://doi.org/10.1093/biomet/4.1-2.105)\n",
    "\n",
    "**Description:** Brain weight (grams) and head size (cubic cm) for 237 adults classified by gender and age group.\n",
    "\n",
    "Variables/Columns\n",
    "- **GENDER:** Gender  \\[*Male* or *Female*\\]\n",
    "- **AGE:** Age Range  \\[*20-46* or *46+*\\]\n",
    "- **SIZE:** Head size (cm^3)\n",
    "- **WEIGHT:** Brain weight (grams)\n",
    "\n"
   ]
  },
  {
   "cell_type": "markdown",
   "metadata": {},
   "source": [
    "### Read the csv file into a pandas DataFrame"
   ]
  },
  {
   "cell_type": "code",
   "execution_count": 2,
   "metadata": {
    "slideshow": {
     "slide_type": "subslide"
    }
   },
   "outputs": [
    {
     "name": "stdout",
     "output_type": "stream",
     "text": [
      "Strain_Frame: (2351, 186)\n"
     ]
    },
    {
     "data": {
      "text/html": [
       "<div>\n",
       "<style scoped>\n",
       "    .dataframe tbody tr th:only-of-type {\n",
       "        vertical-align: middle;\n",
       "    }\n",
       "\n",
       "    .dataframe tbody tr th {\n",
       "        vertical-align: top;\n",
       "    }\n",
       "\n",
       "    .dataframe thead th {\n",
       "        text-align: right;\n",
       "    }\n",
       "</style>\n",
       "<table border=\"1\" class=\"dataframe\">\n",
       "  <thead>\n",
       "    <tr style=\"text-align: right;\">\n",
       "      <th></th>\n",
       "      <th>Strain</th>\n",
       "      <th>Rating</th>\n",
       "      <th>StrainType</th>\n",
       "      <th>Type: Hybrid</th>\n",
       "      <th>Type: Indica</th>\n",
       "      <th>Type: Sativa</th>\n",
       "      <th>Effect: Creative</th>\n",
       "      <th>Effect: Energetic</th>\n",
       "      <th>Effect: Tingly</th>\n",
       "      <th>Effect: Euphoric</th>\n",
       "      <th>...</th>\n",
       "      <th>Descriptor: Potent</th>\n",
       "      <th>Descriptor: Body High</th>\n",
       "      <th>Descriptor: Head High</th>\n",
       "      <th>Descriptor: Daytime</th>\n",
       "      <th>Descriptor: Nighttime</th>\n",
       "      <th>Descriptor: Outside</th>\n",
       "      <th>Descriptor: Creative</th>\n",
       "      <th>Descriptor: Psychedelic</th>\n",
       "      <th>Descriptor: Lazy</th>\n",
       "      <th>Descriptor: Calm</th>\n",
       "    </tr>\n",
       "  </thead>\n",
       "  <tbody>\n",
       "    <tr>\n",
       "      <th>0</th>\n",
       "      <td>100 Og</td>\n",
       "      <td>4.0</td>\n",
       "      <td>3</td>\n",
       "      <td>1</td>\n",
       "      <td>0</td>\n",
       "      <td>0</td>\n",
       "      <td>1</td>\n",
       "      <td>1</td>\n",
       "      <td>1</td>\n",
       "      <td>1</td>\n",
       "      <td>...</td>\n",
       "      <td>1</td>\n",
       "      <td>1</td>\n",
       "      <td>1</td>\n",
       "      <td>0</td>\n",
       "      <td>0</td>\n",
       "      <td>0</td>\n",
       "      <td>0</td>\n",
       "      <td>0</td>\n",
       "      <td>0</td>\n",
       "      <td>0</td>\n",
       "    </tr>\n",
       "    <tr>\n",
       "      <th>1</th>\n",
       "      <td>98 White Widow</td>\n",
       "      <td>4.7</td>\n",
       "      <td>3</td>\n",
       "      <td>1</td>\n",
       "      <td>0</td>\n",
       "      <td>0</td>\n",
       "      <td>1</td>\n",
       "      <td>1</td>\n",
       "      <td>0</td>\n",
       "      <td>0</td>\n",
       "      <td>...</td>\n",
       "      <td>1</td>\n",
       "      <td>1</td>\n",
       "      <td>0</td>\n",
       "      <td>0</td>\n",
       "      <td>0</td>\n",
       "      <td>0</td>\n",
       "      <td>0</td>\n",
       "      <td>0</td>\n",
       "      <td>0</td>\n",
       "      <td>0</td>\n",
       "    </tr>\n",
       "    <tr>\n",
       "      <th>2</th>\n",
       "      <td>1024</td>\n",
       "      <td>4.4</td>\n",
       "      <td>1</td>\n",
       "      <td>0</td>\n",
       "      <td>0</td>\n",
       "      <td>1</td>\n",
       "      <td>1</td>\n",
       "      <td>1</td>\n",
       "      <td>0</td>\n",
       "      <td>0</td>\n",
       "      <td>...</td>\n",
       "      <td>0</td>\n",
       "      <td>0</td>\n",
       "      <td>0</td>\n",
       "      <td>0</td>\n",
       "      <td>0</td>\n",
       "      <td>0</td>\n",
       "      <td>0</td>\n",
       "      <td>0</td>\n",
       "      <td>0</td>\n",
       "      <td>0</td>\n",
       "    </tr>\n",
       "    <tr>\n",
       "      <th>3</th>\n",
       "      <td>13 Dawgs</td>\n",
       "      <td>4.2</td>\n",
       "      <td>3</td>\n",
       "      <td>1</td>\n",
       "      <td>0</td>\n",
       "      <td>0</td>\n",
       "      <td>1</td>\n",
       "      <td>0</td>\n",
       "      <td>1</td>\n",
       "      <td>0</td>\n",
       "      <td>...</td>\n",
       "      <td>1</td>\n",
       "      <td>1</td>\n",
       "      <td>0</td>\n",
       "      <td>0</td>\n",
       "      <td>0</td>\n",
       "      <td>0</td>\n",
       "      <td>1</td>\n",
       "      <td>0</td>\n",
       "      <td>0</td>\n",
       "      <td>0</td>\n",
       "    </tr>\n",
       "    <tr>\n",
       "      <th>4</th>\n",
       "      <td>24K Gold</td>\n",
       "      <td>4.6</td>\n",
       "      <td>3</td>\n",
       "      <td>1</td>\n",
       "      <td>0</td>\n",
       "      <td>0</td>\n",
       "      <td>0</td>\n",
       "      <td>0</td>\n",
       "      <td>0</td>\n",
       "      <td>1</td>\n",
       "      <td>...</td>\n",
       "      <td>1</td>\n",
       "      <td>0</td>\n",
       "      <td>0</td>\n",
       "      <td>0</td>\n",
       "      <td>0</td>\n",
       "      <td>0</td>\n",
       "      <td>0</td>\n",
       "      <td>0</td>\n",
       "      <td>0</td>\n",
       "      <td>0</td>\n",
       "    </tr>\n",
       "  </tbody>\n",
       "</table>\n",
       "<p>5 rows × 186 columns</p>\n",
       "</div>"
      ],
      "text/plain": [
       "           Strain  Rating  StrainType  Type: Hybrid  Type: Indica  \\\n",
       "0          100 Og     4.0           3             1             0   \n",
       "1  98 White Widow     4.7           3             1             0   \n",
       "2            1024     4.4           1             0             0   \n",
       "3        13 Dawgs     4.2           3             1             0   \n",
       "4        24K Gold     4.6           3             1             0   \n",
       "\n",
       "   Type: Sativa  Effect: Creative  Effect: Energetic  Effect: Tingly  \\\n",
       "0             0                 1                  1               1   \n",
       "1             0                 1                  1               0   \n",
       "2             1                 1                  1               0   \n",
       "3             0                 1                  0               1   \n",
       "4             0                 0                  0               0   \n",
       "\n",
       "   Effect: Euphoric  ...  Descriptor: Potent  Descriptor: Body High  \\\n",
       "0                 1  ...                   1                      1   \n",
       "1                 0  ...                   1                      1   \n",
       "2                 0  ...                   0                      0   \n",
       "3                 0  ...                   1                      1   \n",
       "4                 1  ...                   1                      0   \n",
       "\n",
       "   Descriptor: Head High  Descriptor: Daytime  Descriptor: Nighttime  \\\n",
       "0                      1                    0                      0   \n",
       "1                      0                    0                      0   \n",
       "2                      0                    0                      0   \n",
       "3                      0                    0                      0   \n",
       "4                      0                    0                      0   \n",
       "\n",
       "   Descriptor: Outside  Descriptor: Creative  Descriptor: Psychedelic  \\\n",
       "0                    0                     0                        0   \n",
       "1                    0                     0                        0   \n",
       "2                    0                     0                        0   \n",
       "3                    0                     1                        0   \n",
       "4                    0                     0                        0   \n",
       "\n",
       "   Descriptor: Lazy  Descriptor: Calm  \n",
       "0                 0                 0  \n",
       "1                 0                 0  \n",
       "2                 0                 0  \n",
       "3                 0                 0  \n",
       "4                 0                 0  \n",
       "\n",
       "[5 rows x 186 columns]"
      ]
     },
     "execution_count": 2,
     "metadata": {},
     "output_type": "execute_result"
    }
   ],
   "source": [
    "Strain_Frame = pd.read_csv('../Resources/Strain_Frame.csv')\n",
    "print(\"Strain_Frame:\",Strain_Frame.shape)\n",
    "Strain_Frame.head()\n"
   ]
  },
  {
   "cell_type": "markdown",
   "metadata": {},
   "source": [
    "### Split data and labels and reshape"
   ]
  },
  {
   "cell_type": "code",
   "execution_count": 9,
   "metadata": {
    "slideshow": {
     "slide_type": "subslide"
    }
   },
   "outputs": [
    {
     "name": "stdout",
     "output_type": "stream",
     "text": [
      "var: (row,col)\n",
      "X.shape (2351, 185)\n",
      "y.shape (2351, 1)\n"
     ]
    }
   ],
   "source": [
    "X = Strain_Frame[[\"Rating\", \"StrainType\", \"Type: Hybrid\", \"Type: Indica\", \"Type: Sativa\", \"Effect: Creative\", \"Effect: Energetic\", \"Effect: Tingly\", \"Effect: Euphoric\", \"Effect: Relaxed\", \"Effect: Aroused\", \"Effect: Happy\", \"Effect: Uplifted\", \"Effect: Hungry\", \"Effect: Talkative\", \"Effect: Sleepy\",\"Effect: Focused\", \"Terpenes: Earthy\", \"Terpenes: Sweet\", \"Terpenes: Citrus\", \"Terpenes: Flowery\", \"Terpenes: Violet\", \"Terpenes: Diesel\", \"Terpenes: Spicy/Herbal\", \"Terpenes: Sage\", \"Terpenes: Woody\", \"Terpenes: Apricot\", \"Terpenes: Grapefruit\", \"Terpenes: Orange\",  \"Terpenes: None\", \"Terpenes: Pungent\", \n",
    "\"Terpenes: Grape\", \"Terpenes: Pine\", \"Terpenes: Skunk\", \"Terpenes: Berry\", \"Terpenes: Pepper\", \"Terpenes: Menthol\", \"Terpenes: Blue\", \"Terpenes: Cheese\", \"Terpenes: Chemical\", \"Terpenes: Mango\", \"Terpenes: Lemon\", \"Terpenes: Peach\", \"Terpenes: Vanilla\", \"Terpenes: Nutty\", \"Terpenes: Chestnut\", \"Terpenes: Tea\", \"Terpenes: Tobacco\", \"Terpenes: Tropical\", \"Terpenes: Strawberry\", \"Terpenes: Blueberry\", \"Terpenes: Mint\", \"Terpenes: Apple\", \"Terpenes: Honey\", \"Terpenes: Lavender\", \"Terpenes: Lime\", \"Terpenes: Unknown\", \"Terpenes: Coffee\", \"Terpenes: Ammonia\", \"Terpenes: Minty\", \"Terpenes: Tree\", \"Terpenes: Fruit\", \"Terpenes: Butter\", \"Terpenes: Pineapple\", \"Terpenes: Tar\", \"Terpenes: Rose\", \"Terpenes: Plum\", \"Terpenes: Pear\", \"Medical: Pain\", \"Medical: Insomnia\", \"Medical: Nausea\", \"Medical: Seizure\", \"Medical: Anxiety\", \"Medical: Muscle Spasms\", \"Medical: Appetite\", \"Medical: Stress\", \"Medical: Depression\", \"Medical: Crohn's Disease\", \"Medical: Substance Abuse\", \"Medical: PTSD\", \"Medical: Arthritis\", \"Medical: Fatigue\", \n",
    "\"Medical: \", \"Parent: Aceh\", \"Parent: Hindu Kush\",\n",
    "\"Parent: OG Kush\", \"Parent: Sour Diesel\", \"Parent: Granddaddy Purple\", \"Parent: Northern Lights\", \"Parent: Durban Poison\", \"Parent: Bubba Kush\", \"Parent: Pre-98 Bubba Kush\", \"Parent: Jack Herer\", \"Parent: Blue Dream\", \"Parent: Trainwreck\", \"Parent: Hawaiian\", \"Parent: Amnesia\", \"Parent: Super Silver Haze\", \"Parent: OG Badazz\", \"Parent: Ms. Universe\", \"Parent: LSD\", \"Parent: Banana OG\", \"Parent: White Widow\", \"Parent: Nepali OG\", \"Parent: Afgoo\", \"Parent: Appalachia\", \"Parent: Harlequin\",\"Parent: Jack the Ripper\", \"Parent: Pennywise\", \"Parent: Lilly\", \"Parent: Headband\", \"Parent: Snowdawg\", \"Parent: Snow Lotus\", \"Parent: Green Crack\", \"Parent: Alien OG\", \"Parent: Alien Kush\", \"Parent: Alien Dawg\", \"Parent: Chernobyl\", \"Parent: Elephant\", \"Parent: Apollo 13\", \"Parent: Space Queen\", \"Parent: Jackas Cleaner\", \"Parent: LA Confidential\", \"Parent: Maui Wowie\", \"Parent: Gorilla Glue\", \"Parent: AK-47\", \"Parent: Blue Cheese\", \"Parent: Deep Chunk\", \"Parent: G13\", \"Parent: Rare Dankness #1\", \"Parent: Skywalker\", \"Parent: Skywalker OG\", \"Parent: Master Kush\", \"Parent: SFV OG\", \"Parent: Gooberry\", \"Parent: Hellas Angel OG\", \"Parent: Captain Krypt\", \"Parent: Sour Bubble\", \"Parent: Shiva\", \"Parent: Blue Moonshine\", \"Parent: Ortega\", \"Parent: Fire OG\", \"Parent: Green Ribbon\", \"Parent: Triangle Kush\", \"Parent: Georgia Pine\", \"Parent: Shishkaberry\", \"Parent: Great White Shark\", \"Parent: Mazar I Sharif\", \"Parent: Nepalese\", \"Parent: Afghani\", \"Parent: Thai\", \"Parent: Skunk\", \"Parent: The White\", \"Parent: Blackberry\", \"Parent: Cheese\", \"Parent: Girl Scout Cookies\", \"Parent: Chemdawg 91\", \"Parent: Chemdawg\",\n",
    " \"Descriptor: Sativa Dominant\", \"Descriptor: Indica Dominant\", \"Descriptor: 50/50 Hybrid\", \"Descriptor: High CBD\", \"Descriptor: High THC\", \"Descriptor: Low CBD\", \"Descriptor: Low THC\", \"Descriptor: 1:1 CBD/THC\", \"Descriptor: Caryophyllene\", \"Descriptor: Limonene\", \"Descriptor: Humulene\", \"Descriptor: Ocimene\", \"Descriptor: Terpinolene\", \"Descriptor: Myrcene\", \"Descriptor: Pinene\", \"Descriptor: Linalool\", \"Descriptor: Kush\", \"Descriptor: Potent\", \"Descriptor: Body High\", \"Descriptor: Head High\", \"Descriptor: Daytime\", \"Descriptor: Nighttime\", \"Descriptor: Outside\", \"Descriptor: Creative\", \"Descriptor: Psychedelic\", \"Descriptor: Lazy\", \"Descriptor: Calm\"]]\n",
    "y = Strain_Frame[\"Rating\"].values.reshape(-1, 1)\n",
    "print(\"var: (row,col)\")\n",
    "print(\"X.shape\",X.shape)\n",
    "print(\"y.shape\",y.shape)"
   ]
  },
  {
   "cell_type": "code",
   "execution_count": 10,
   "metadata": {},
   "outputs": [
    {
     "name": "stdout",
     "output_type": "stream",
     "text": [
      "[[4. ]\n",
      " [4.7]\n",
      " [4.4]\n",
      " ...\n",
      " [5. ]\n",
      " [4.4]\n",
      " [4.6]]\n"
     ]
    }
   ],
   "source": [
    "print(y)"
   ]
  },
  {
   "cell_type": "code",
   "execution_count": 6,
   "metadata": {},
   "outputs": [
    {
     "name": "stdout",
     "output_type": "stream",
     "text": [
      "              Strain  Rating  StrainType  Type: Hybrid  Type: Indica  \\\n",
      "0             100 Og     4.0           3             1             0   \n",
      "1     98 White Widow     4.7           3             1             0   \n",
      "2               1024     4.4           1             0             0   \n",
      "3           13 Dawgs     4.2           3             1             0   \n",
      "4           24K Gold     4.6           3             1             0   \n",
      "...              ...     ...         ...           ...           ...   \n",
      "2346         Zeus Og     4.7           3             1             0   \n",
      "2347        Zkittlez     4.6           2             0             1   \n",
      "2348     Zombie Kush     5.0           2             0             1   \n",
      "2349       Zombie Og     4.4           2             0             1   \n",
      "2350        Zoom Pie     4.6           2             0             1   \n",
      "\n",
      "      Type: Sativa  Effect: Creative  Effect: Energetic  Effect: Tingly  \\\n",
      "0                0                 1                  1               1   \n",
      "1                0                 1                  1               0   \n",
      "2                1                 1                  1               0   \n",
      "3                0                 1                  0               1   \n",
      "4                0                 0                  0               0   \n",
      "...            ...               ...                ...             ...   \n",
      "2346             0                 0                  1               0   \n",
      "2347             0                 0                  0               0   \n",
      "2348             0                 0                  0               0   \n",
      "2349             0                 0                  0               0   \n",
      "2350             0                 0                  0               0   \n",
      "\n",
      "      Effect: Euphoric  ...  Descriptor: Potent  Descriptor: Body High  \\\n",
      "0                    1  ...                   1                      1   \n",
      "1                    0  ...                   1                      1   \n",
      "2                    0  ...                   0                      0   \n",
      "3                    0  ...                   1                      1   \n",
      "4                    1  ...                   1                      0   \n",
      "...                ...  ...                 ...                    ...   \n",
      "2346                 1  ...                   0                      0   \n",
      "2347                 1  ...                   0                      1   \n",
      "2348                 1  ...                   1                      0   \n",
      "2349                 1  ...                   1                      0   \n",
      "2350                 0  ...                   0                      1   \n",
      "\n",
      "      Descriptor: Head High  Descriptor: Daytime  Descriptor: Nighttime  \\\n",
      "0                         1                    0                      0   \n",
      "1                         0                    0                      0   \n",
      "2                         0                    0                      0   \n",
      "3                         0                    0                      0   \n",
      "4                         0                    0                      0   \n",
      "...                     ...                  ...                    ...   \n",
      "2346                      1                    1                      0   \n",
      "2347                      0                    1                      0   \n",
      "2348                      0                    1                      0   \n",
      "2349                      0                    0                      1   \n",
      "2350                      1                    0                      0   \n",
      "\n",
      "      Descriptor: Outside  Descriptor: Creative  Descriptor: Psychedelic  \\\n",
      "0                       0                     0                        0   \n",
      "1                       0                     0                        0   \n",
      "2                       0                     0                        0   \n",
      "3                       0                     1                        0   \n",
      "4                       0                     0                        0   \n",
      "...                   ...                   ...                      ...   \n",
      "2346                    0                     0                        0   \n",
      "2347                    0                     0                        0   \n",
      "2348                    0                     0                        0   \n",
      "2349                    0                     0                        0   \n",
      "2350                    0                     0                        0   \n",
      "\n",
      "      Descriptor: Lazy  Descriptor: Calm  \n",
      "0                    0                 0  \n",
      "1                    0                 0  \n",
      "2                    0                 0  \n",
      "3                    0                 0  \n",
      "4                    0                 0  \n",
      "...                ...               ...  \n",
      "2346                 0                 0  \n",
      "2347                 0                 0  \n",
      "2348                 0                 0  \n",
      "2349                 0                 0  \n",
      "2350                 0                 0  \n",
      "\n",
      "[2351 rows x 186 columns]\n"
     ]
    }
   ],
   "source": [
    "print(X)"
   ]
  },
  {
   "cell_type": "markdown",
   "metadata": {
    "slideshow": {
     "slide_type": "slide"
    }
   },
   "source": [
    "## Working with Categorical Data\n",
    "\n",
    "What's wrong with the following code?"
   ]
  },
  {
   "cell_type": "markdown",
   "metadata": {
    "slideshow": {
     "slide_type": "subslide"
    }
   },
   "source": [
    "Machine Learning algorithms work with numerical data. We have to convert our strings into meaningful numbers. We often use Integer, One-hot, or Binary Encoding. Sklearn provides a preprocessing library for all of these standard preprocessing techniques. Pandas also provides a `get_dummies` method that is useful to generate binary encoded data from a Data Frame. "
   ]
  },
  {
   "cell_type": "markdown",
   "metadata": {
    "slideshow": {
     "slide_type": "slide"
    }
   },
   "source": [
    "## Dummy Encoding (Binary Encoded Data)"
   ]
  },
  {
   "cell_type": "markdown",
   "metadata": {
    "slideshow": {
     "slide_type": "fragment"
    }
   },
   "source": [
    "Dummy Encoding (also known as One-Hot Encoding) transforms each categorical feature into new columns with a 1 (True) or 0 (False) encoding to represent if that categorical label was present or not in the original row. \n",
    "\n",
    "Pandas provides a shortcut to create Binary Encoded data."
   ]
  },
  {
   "cell_type": "code",
   "execution_count": null,
   "metadata": {
    "slideshow": {
     "slide_type": "fragment"
    }
   },
   "outputs": [],
   "source": [
    "# data = X.copy()\n",
    "\n",
    "# # using get_dummies with a single column\n",
    "# data_binary_encoded = pd.get_dummies(data, columns=[\"Hybrid\"])\n",
    "# data_binary_encoded.head()"
   ]
  },
  {
   "cell_type": "markdown",
   "metadata": {
    "slideshow": {
     "slide_type": "subslide"
    }
   },
   "source": [
    "We can encode multiple columns using `get_dummies`."
   ]
  },
  {
   "cell_type": "code",
   "execution_count": null,
   "metadata": {
    "slideshow": {
     "slide_type": "fragment"
    }
   },
   "outputs": [],
   "source": [
    "# data = X.copy()\n",
    "\n",
    "# #using get_dummies across all categorical columns\n",
    "# data_binary_encoded = pd.get_dummies(X)\n",
    "# data_binary_encoded.head()"
   ]
  },
  {
   "cell_type": "markdown",
   "metadata": {
    "slideshow": {
     "slide_type": "slide"
    }
   },
   "source": [
    "## Scaling and Normalization"
   ]
  },
  {
   "cell_type": "markdown",
   "metadata": {
    "slideshow": {
     "slide_type": "subslide"
    }
   },
   "source": [
    "The final step that we need to perform is scaling and normalization. Many algorithms will perform better with a normalized or scaled dataset. You may not see a difference with the Sklearn LinearRegression model, but other models that incorporate calculated distances into the training process may benefit from normalization. \n",
    "\n",
    "Additionally, normalization is benefitial when you're working with input features that use significantly different scales (e.g., age vs income)."
   ]
  },
  {
   "cell_type": "markdown",
   "metadata": {
    "slideshow": {
     "slide_type": "subslide"
    }
   },
   "source": [
    "Sklearn provides a variety of scaling and normalization options. The two most common are minmax and StandardScaler. Use StandardScaler when you don't know anything about your data."
   ]
  },
  {
   "cell_type": "markdown",
   "metadata": {
    "slideshow": {
     "slide_type": "subslide"
    }
   },
   "source": [
    "The first step is to split your data into Training and Testing using `train_test_split`."
   ]
  },
  {
   "cell_type": "code",
   "execution_count": 11,
   "metadata": {
    "slideshow": {
     "slide_type": "fragment"
    }
   },
   "outputs": [
    {
     "name": "stdout",
     "output_type": "stream",
     "text": [
      "X_train:  (1763, 185)\n",
      "X_test: (588, 185)\n",
      "Y_train:  (1763, 1)\n",
      "Y_test: (588, 1)\n",
      "X_train: Index(['Rating', 'StrainType', 'Type: Hybrid', 'Type: Indica', 'Type: Sativa',\n",
      "       'Effect: Creative', 'Effect: Energetic', 'Effect: Tingly',\n",
      "       'Effect: Euphoric', 'Effect: Relaxed',\n",
      "       ...\n",
      "       'Descriptor: Potent', 'Descriptor: Body High', 'Descriptor: Head High',\n",
      "       'Descriptor: Daytime', 'Descriptor: Nighttime', 'Descriptor: Outside',\n",
      "       'Descriptor: Creative', 'Descriptor: Psychedelic', 'Descriptor: Lazy',\n",
      "       'Descriptor: Calm'],\n",
      "      dtype='object', length=185)\n"
     ]
    }
   ],
   "source": [
    "from sklearn.model_selection import train_test_split\n",
    "\n",
    "# X = pd.get_dummies(X)\n",
    "\n",
    "X_train, X_test, y_train, y_test = train_test_split(X, y, random_state=42)\n",
    "print(\"X_train: \", X_train.shape)\n",
    "print(\"X_test:\", X_test.shape)\n",
    "print(\"Y_train: \", y_train.shape)\n",
    "print(\"Y_test:\", y_test.shape)\n",
    "\n",
    "print(\"X_train:\",X_train.columns)"
   ]
  },
  {
   "cell_type": "markdown",
   "metadata": {
    "slideshow": {
     "slide_type": "subslide"
    }
   },
   "source": [
    "### StandardScaler"
   ]
  },
  {
   "cell_type": "code",
   "execution_count": null,
   "metadata": {},
   "outputs": [],
   "source": []
  },
  {
   "cell_type": "markdown",
   "metadata": {
    "slideshow": {
     "slide_type": "subslide"
    }
   },
   "source": [
    "Now, we fit our StandardScaler model to our training data. We can apply this StandardScaler model to any future data. Note that we use this fit/transform approach so that we isolate our testing data from the training data that we use to fit our model. Otherwise, we might bias our model to the testing data. \n",
    "\n",
    "StandardScaler applies a Gaussian distribution to our data where the mean is 0 and the standard deviation is 1. We can see the difference in the following plots."
   ]
  },
  {
   "cell_type": "markdown",
   "metadata": {},
   "source": [
    "### Fit the training data to the StandardScaler"
   ]
  },
  {
   "cell_type": "code",
   "execution_count": 12,
   "metadata": {
    "slideshow": {
     "slide_type": "fragment"
    }
   },
   "outputs": [
    {
     "name": "stdout",
     "output_type": "stream",
     "text": [
      "X_scaler StandardScaler(copy=True, with_mean=True, with_std=True)\n",
      "y_scaler StandardScaler(copy=True, with_mean=True, with_std=True)\n"
     ]
    }
   ],
   "source": [
    "from sklearn.preprocessing import StandardScaler\n",
    "X_scaler = StandardScaler().fit(X_train)\n",
    "print(\"X_scaler\",X_scaler)\n",
    "y_scaler = StandardScaler().fit(y_train)\n",
    "print(\"y_scaler\",y_scaler)"
   ]
  },
  {
   "cell_type": "markdown",
   "metadata": {},
   "source": [
    "### Create variables to hold the scaled train & test data"
   ]
  },
  {
   "cell_type": "code",
   "execution_count": 13,
   "metadata": {
    "slideshow": {
     "slide_type": "fragment"
    }
   },
   "outputs": [
    {
     "name": "stdout",
     "output_type": "stream",
     "text": [
      "X_train_scaled [[ 0.58972399  0.87882099  0.97922872 ... -0.11241181 -0.1043767\n",
      "  -0.26782928]\n",
      " [-5.19097828 -0.41554944 -1.02121188 ... -0.11241181 -0.1043767\n",
      "  -0.26782928]\n",
      " [ 0.34886139  0.87882099  0.97922872 ... -0.11241181 -0.1043767\n",
      "  -0.26782928]\n",
      " ...\n",
      " [ 0.58972399 -0.41554944 -1.02121188 ... -0.11241181 -0.1043767\n",
      "  -0.26782928]\n",
      " [ 0.1079988  -0.41554944 -1.02121188 ... -0.11241181 -0.1043767\n",
      "  -0.26782928]\n",
      " [-0.37372639 -0.41554944 -1.02121188 ... -0.11241181 -0.1043767\n",
      "  -0.26782928]]\n",
      "X_test_scaled StandardScaler(copy=True, with_mean=True, with_std=True)\n",
      "y_train_scaled [[ 0.58972399]\n",
      " [-5.19097828]\n",
      " [ 0.34886139]\n",
      " ...\n",
      " [ 0.58972399]\n",
      " [ 0.1079988 ]\n",
      " [-0.37372639]]\n",
      "y_test_scaled StandardScaler(copy=True, with_mean=True, with_std=True)\n"
     ]
    }
   ],
   "source": [
    "X_train_scaled = X_scaler.transform(X_train)\n",
    "X_test_scaled = X_scaler.transform(X_test)\n",
    "y_train_scaled = y_scaler.transform(y_train)\n",
    "y_test_scaled = y_scaler.transform(y_test)\n",
    "\n",
    "print(\"X_train_scaled\",X_train_scaled)\n",
    "print(\"X_test_scaled\",X_scaler)\n",
    "print(\"y_train_scaled\",y_train_scaled)\n",
    "print(\"y_test_scaled\",y_scaler)\n"
   ]
  },
  {
   "cell_type": "markdown",
   "metadata": {},
   "source": [
    "### Plot the scaled data"
   ]
  },
  {
   "cell_type": "code",
   "execution_count": 14,
   "metadata": {
    "slideshow": {
     "slide_type": "skip"
    }
   },
   "outputs": [
    {
     "data": {
      "text/plain": [
       "<matplotlib.collections.PathCollection at 0x1f88a89ec88>"
      ]
     },
     "execution_count": 14,
     "metadata": {},
     "output_type": "execute_result"
    },
    {
     "data": {
      "image/png": "[encoded data removed]",
      "text/plain": [
       "<Figure size 864x432 with 2 Axes>"
      ]
     },
     "metadata": {
      "needs_background": "light"
     },
     "output_type": "display_data"
    }
   ],
   "source": [
    "# Create your subplots\n",
    "fig1 = plt.figure(figsize=(12, 6))\n",
    "axes1 = fig1.add_subplot(1, 2, 1)\n",
    "axes2 = fig1.add_subplot(1, 2, 2)\n",
    "\n",
    "# Add title labels\n",
    "axes1.set_title(\"Original Data\")\n",
    "axes2.set_title(\"Scaled Data\")\n",
    "\n",
    "# Using your max x & y values, set the plot axis limits for your \n",
    "maxx = -5\n",
    "maxy = y_train.max()\n",
    "axes1.set_xlim(-3, 6)\n",
    "axes1.set_ylim(-3, 6)\n",
    "\n",
    "# Set limits for your scaled data\n",
    "# axes2.set_xlim(-3, 3)\n",
    "# axes2.set_ylim(-3, 3)\n",
    "\n",
    "# Use a function to apply plot formatting, to avoid having to write it out twice\n",
    "def set_axes(ax):\n",
    "    ax.spines['left'].set_position('center')\n",
    "    ax.spines['right'].set_color('none')\n",
    "    ax.spines['bottom'].set_position('center')\n",
    "    ax.spines['top'].set_color('none')\n",
    "    ax.xaxis.set_ticks_position('bottom')\n",
    "    ax.yaxis.set_ticks_position('left')\n",
    "    \n",
    "# apply formatting function to each axis\n",
    "set_axes(axes1)\n",
    "set_axes(axes2)\n",
    "\n",
    "# plot the original data and the scaled data\n",
    "axes1.scatter(X_train[\"StrainType\"], y_train)\n",
    "axes2.scatter(X_train_scaled[:,0], y_train_scaled[:])"
   ]
  },
  {
   "cell_type": "markdown",
   "metadata": {
    "slideshow": {
     "slide_type": "slide"
    }
   },
   "source": [
    "# Put it all together"
   ]
  },
  {
   "cell_type": "code",
   "execution_count": 15,
   "metadata": {
    "slideshow": {
     "slide_type": "subslide"
    }
   },
   "outputs": [
    {
     "name": "stdout",
     "output_type": "stream",
     "text": [
      "0.9999999998669276\n"
     ]
    }
   ],
   "source": [
    "\n",
    "from sklearn.linear_model import LinearRegression\n",
    "model = LinearRegression()\n",
    "model.fit(X_train_scaled, y_train_scaled)\n",
    "print(model.score(X_test_scaled, y_test_scaled))"
   ]
  },
  {
   "cell_type": "markdown",
   "metadata": {
    "slideshow": {
     "slide_type": "subslide"
    }
   },
   "source": [
    "### Step 1) Convert Categorical data to numbers using Integer or Binary Encoding"
   ]
  },
  {
   "cell_type": "code",
   "execution_count": 22,
   "metadata": {
    "slideshow": {
     "slide_type": "fragment"
    }
   },
   "outputs": [],
   "source": [
    "# X = pd.get_dummies([[\"Rating\", \"StrainType\", \"Effect: Creative\", \"Effect: Energetic\", \"Effect: Tingly\", \"Effect: Euphoric\", \"Effect: Relaxed\", \"Effect: Aroused\", \"Effect: Happy\", \"Effect: Uplifted\", \"Effect: Hungry\", \"Effect: Talkative\", \"Effect: Sleepy\",\"Effect: Focused\", \"Terpenes: Earthy\", \"Terpenes: Sweet\", \"Terpenes: Citrus\", \"Terpenes: Flowery\", \"Terpenes: Violet\", \"Terpenes: Diesel\", \"Terpenes: Spicy/Herbal\", \"Terpenes: Sage\", \"Terpenes: Woody\", \"Terpenes: Apricot\", \"Terpenes: Grapefruit\", \"Terpenes: Orange\",  \"Terpenes: None\", \"Terpenes: Pungent\", \n",
    "# \"Terpenes: Grape\", \"Terpenes: Pine\", \"Terpenes: Skunk\", \"Terpenes: Berry\", \"Terpenes: Pepper\", \"Terpenes: Menthol\", \"Terpenes: Blue\", \"Terpenes: Cheese\", \"Terpenes: Chemical\", \"Terpenes: Mango\", \"Terpenes: Lemon\", \"Terpenes: Peach\", \"Terpenes: Vanilla\", \"Terpenes: Nutty\", \"Terpenes: Chestnut\", \"Terpenes: Tea\", \"Terpenes: Tobacco\", \"Terpenes: Tropical\", \"Terpenes: Strawberry\", \"Terpenes: Blueberry\", \"Terpenes: Mint\", \"Terpenes: Apple\", \"Terpenes: Honey\", \"Terpenes: Lavender\", \"Terpenes: Lime\", \"Terpenes: Unknown\", \"Terpenes: Coffee\", \"Terpenes: Ammonia\", \"Terpenes: Minty\", \"Terpenes: Tree\", \"Terpenes: Fruit\", \"Terpenes: Butter\", \"Terpenes: Pineapple\", \"Terpenes: Tar\", \"Terpenes: Rose\", \"Terpenes: Plum\", \"Terpenes: Pear\", \"Medical: Pain\", \"Medical: Insomnia\", \"Medical: Nausea\", \"Medical: Seizure\", \"Medical: Anxiety\", \"Medical: Muscle Spasms\", \"Medical: Appetite\", \"Medical: Stress\", \"Medical: Depression\", \"Medical: Crohn's Disease\", \"Medical: Substance Abuse\", \"Medical: PTSD\", \"Medical: Arthritis\", \"Medical: Fatigue\", \n",
    "# \"Medical: \", \"Parent: Aceh\", \"Parent: Hindu Kush\",\n",
    "# \"Parent: OG Kush\", \"Parent: Sour Diesel\", \"Parent: Granddaddy Purple\", \"Parent: Northern Lights\", \"Parent: Durban Poison\", \"Parent: Bubba Kush\", \"Parent: Pre-98 Bubba Kush\", \"Parent: Jack Herer\", \"Parent: Blue Dream\", \"Parent: Trainwreck\", \"Parent: Hawaiian\", \"Parent: Amnesia\", \"Parent: Super Silver Haze\", \"Parent: OG Badazz\", \"Parent: Ms. Universe\", \"Parent: LSD\", \"Parent: Banana OG\", \"Parent: White Widow\", \"Parent: Nepali OG\", \"Parent: Afgoo\", \"Parent: Appalachia\", \"Parent: Harlequin\",\"Parent: Jack the Ripper\", \"Parent: Pennywise\", \"Parent: Lilly\", \"Parent: Headband\", \"Parent: Snowdawg\", \"Parent: Snow Lotus\", \"Parent: Green Crack\", \"Parent: Alien OG\", \"Parent: Alien Kush\", \"Parent: Alien Dawg\", \"Parent: Chernobyl\", \"Parent: Elephant\", \"Parent: Apollo 13\", \"Parent: Space Queen\", \"Parent: Jackas Cleaner\", \"Parent: LA Confidential\", \"Parent: Maui Wowie\", \"Parent: Gorilla Glue\", \"Parent: AK-47\", \"Parent: Blue Cheese\", \"Parent: Deep Chunk\", \"Parent: G13\", \"Parent: Rare Dankness #1\", \"Parent: Skywalker\", \"Parent: Skywalker OG\", \"Parent: Master Kush\", \"Parent: SFV OG\", \"Parent: Gooberry\", \"Parent: Hellas Angel OG\", \"Parent: Captain Krypt\", \"Parent: Sour Bubble\", \"Parent: Shiva\", \"Parent: Blue Moonshine\", \"Parent: Ortega\", \"Parent: Fire OG\", \"Parent: Green Ribbon\", \"Parent: Triangle Kush\", \"Parent: Georgia Pine\", \"Parent: Shishkaberry\", \"Parent: Great White Shark\", \"Parent: Mazar I Sharif\", \"Parent: Nepalese\", \"Parent: Afghani\", \"Parent: Thai\", \"Parent: Skunk\", \"Parent: The White\", \"Parent: Blackberry\", \"Parent: Cheese\", \"Parent: Girl Scout Cookies\", \"Parent: Chemdawg 91\", \"Parent: Chemdawg\",\n",
    "#  \"Descriptor: Sativa Dominant\", \"Descriptor: Indica Dominant\", \"Descriptor: 50/50 Hybrid\", \"Descriptor: High CBD\", \"Descriptor: High THC\", \"Descriptor: Low CBD\", \"Descriptor: Low THC\", \"Descriptor: 1:1 CBD/THC\", \"Descriptor: Caryophyllene\", \"Descriptor: Limonene\", \"Descriptor: Humulene\", \"Descriptor: Ocimene\", \"Descriptor: Terpinolene\", \"Descriptor: Myrcene\", \"Descriptor: Pinene\", \"Descriptor: Linalool\", \"Descriptor: Kush\", \"Descriptor: Potent\", \"Descriptor: Body High\", \"Descriptor: Head High\", \"Descriptor: Daytime\", \"Descriptor: Nighttime\", \"Descriptor: Outside\", \"Descriptor: Creative\", \"Descriptor: Psychedelic\", \"Descriptor: Lazy\", \"Descriptor: Calm\"]])\n",
    "# y = Strain_Frame[\"Rating\"].values.reshape(-1, 1)\n",
    "# X.head()"
   ]
  },
  {
   "cell_type": "markdown",
   "metadata": {
    "slideshow": {
     "slide_type": "subslide"
    }
   },
   "source": [
    "### Step 2) Split data into training and testing data"
   ]
  },
  {
   "cell_type": "code",
   "execution_count": 21,
   "metadata": {
    "slideshow": {
     "slide_type": "fragment"
    }
   },
   "outputs": [],
   "source": [
    "from sklearn.model_selection import train_test_split\n",
    "\n",
    "X_train, X_test, y_train, y_test = train_test_split(X, y, random_state=42)"
   ]
  },
  {
   "cell_type": "markdown",
   "metadata": {
    "slideshow": {
     "slide_type": "subslide"
    }
   },
   "source": [
    "### Step 3) Scale or Normalize your data. Use StandardScaler if you don't know anything about your data."
   ]
  },
  {
   "cell_type": "code",
   "execution_count": 23,
   "metadata": {
    "slideshow": {
     "slide_type": "fragment"
    }
   },
   "outputs": [],
   "source": [
    "from sklearn.preprocessing import StandardScaler\n",
    "X_scaler = StandardScaler().fit(X_train)\n",
    "y_scaler = StandardScaler().fit(y_train)\n",
    "\n",
    "X_train_scaled = X_scaler.transform(X_train)\n",
    "X_test_scaled = X_scaler.transform(X_test)\n",
    "y_train_scaled = y_scaler.transform(y_train)\n",
    "y_test_scaled = y_scaler.transform(y_test)"
   ]
  },
  {
   "cell_type": "markdown",
   "metadata": {
    "slideshow": {
     "slide_type": "subslide"
    }
   },
   "source": [
    "### Step 4) Fit the Model to the scaled training data and make predictions using the scaled test data"
   ]
  },
  {
   "cell_type": "code",
   "execution_count": 24,
   "metadata": {
    "slideshow": {
     "slide_type": "fragment"
    }
   },
   "outputs": [
    {
     "data": {
      "text/plain": [
       "LinearRegression(copy_X=True, fit_intercept=True, n_jobs=None, normalize=False)"
      ]
     },
     "execution_count": 24,
     "metadata": {},
     "output_type": "execute_result"
    }
   ],
   "source": [
    "# Generate the model and fit it to the scaled training data\n",
    "from sklearn.linear_model import LinearRegression\n",
    "model = LinearRegression()\n",
    "model.fit(X_train_scaled, y_train_scaled)"
   ]
  },
  {
   "cell_type": "markdown",
   "metadata": {},
   "source": [
    "### Step 5) Plot the residuals"
   ]
  },
  {
   "cell_type": "code",
   "execution_count": 25,
   "metadata": {
    "slideshow": {
     "slide_type": "fragment"
    }
   },
   "outputs": [
    {
     "data": {
      "image/png": "[encoded data removed]",
      "text/plain": [
       "<Figure size 432x288 with 1 Axes>"
      ]
     },
     "metadata": {
      "needs_background": "light"
     },
     "output_type": "display_data"
    }
   ],
   "source": [
    "# create a residuals plot using the predictions for both test and train data\n",
    "plt.scatter(model.predict(X_train_scaled), model.predict(X_train_scaled) - y_train_scaled, c=\"blue\", label=\"Training Data\")\n",
    "plt.scatter(model.predict(X_test_scaled), model.predict(X_test_scaled) - y_test_scaled, c=\"orange\", label=\"Testing Data\")\n",
    "plt.legend()\n",
    "\n",
    "# create a horizontal line at y=0 to show how much error is in each prediction\n",
    "plt.hlines(y=0, xmin=y_test_scaled.min(), xmax=y_test_scaled.max())\n",
    "plt.title(\"Residual Plot\")\n",
    "plt.xlabel(\"Prediction\")\n",
    "plt.show()"
   ]
  },
  {
   "cell_type": "markdown",
   "metadata": {
    "slideshow": {
     "slide_type": "subslide"
    }
   },
   "source": [
    "### Step 6) Quantify your model using the scaled data"
   ]
  },
  {
   "cell_type": "code",
   "execution_count": 26,
   "metadata": {
    "slideshow": {
     "slide_type": "fragment"
    }
   },
   "outputs": [
    {
     "name": "stdout",
     "output_type": "stream",
     "text": [
      "MSE: 1.4061781488744151e-10, R2: 0.9999999998669276\n"
     ]
    }
   ],
   "source": [
    "from sklearn.metrics import mean_squared_error\n",
    "\n",
    "predictions = model.predict(X_test_scaled)\n",
    "MSE = mean_squared_error(y_test_scaled, predictions)\n",
    "r2 = model.score(X_test_scaled, y_test_scaled)\n",
    "\n",
    "print(f\"MSE: {MSE}, R2: {r2}\")"
   ]
  },
  {
   "cell_type": "code",
   "execution_count": null,
   "metadata": {},
   "outputs": [],
   "source": []
  }
 ],
 "metadata": {
  "anaconda-cloud": {},
  "celltoolbar": "Slideshow",
  "kernelspec": {
   "display_name": "Python 3",
   "language": "python",
   "name": "python3"
  },
  "language_info": {
   "codemirror_mode": {
    "name": "ipython",
    "version": 3
   },
   "file_extension": ".py",
   "mimetype": "text/x-python",
   "name": "python",
   "nbconvert_exporter": "python",
   "pygments_lexer": "ipython3",
   "version": "3.7.6"
  },
  "varInspector": {
   "cols": {
    "lenName": 16,
    "lenType": 16,
    "lenVar": 40
   },
   "kernels_config": {
    "python": {
     "delete_cmd_postfix": "",
     "delete_cmd_prefix": "del ",
     "library": "var_list.py",
     "varRefreshCmd": "print(var_dic_list())"
    },
    "r": {
     "delete_cmd_postfix": ") ",
     "delete_cmd_prefix": "rm(",
     "library": "var_list.r",
     "varRefreshCmd": "cat(var_dic_list()) "
    }
   },
   "types_to_exclude": [
    "module",
    "function",
    "builtin_function_or_method",
    "instance",
    "_Feature"
   ],
   "window_display": false
  }
 },
 "nbformat": 4,
 "nbformat_minor": 4
}
